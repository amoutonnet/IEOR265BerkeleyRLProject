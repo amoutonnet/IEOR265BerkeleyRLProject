{
  "nbformat": 4,
  "nbformat_minor": 0,
  "metadata": {
    "colab": {
      "name": "IEOR265exe.ipynb",
      "provenance": [],
      "authorship_tag": "ABX9TyM8KVUN5Uvf6dOqSM+eKnfR",
      "include_colab_link": true
    },
    "kernelspec": {
      "name": "python3",
      "display_name": "Python 3"
    }
  },
  "cells": [
    {
      "cell_type": "markdown",
      "metadata": {
        "id": "view-in-github",
        "colab_type": "text"
      },
      "source": [
        "<a href=\"https://colab.research.google.com/github/amoutonnet/IEOR265BerkeleyRLProject/blob/master/IEOR265exe.ipynb\" target=\"_parent\"><img src=\"https://colab.research.google.com/assets/colab-badge.svg\" alt=\"Open In Colab\"/></a>"
      ]
    },
    {
      "cell_type": "code",
      "metadata": {
        "id": "gNhdWhQvu-Ds",
        "colab_type": "code",
        "colab": {
          "base_uri": "https://localhost:8080/",
          "height": 175
        },
        "outputId": "480d6447-85f4-473a-c613-10c80c13a8c6"
      },
      "source": [
        "%cd /content/\n",
        "!rm -r IEOR265BerkeleyRLProject\n",
        "!git clone https://github.com/amoutonnet/IEOR265BerkeleyRLProject\n",
        "import sys\n",
        "sys.path.append('IEOR265BerkeleyRLProject')"
      ],
      "execution_count": 1,
      "outputs": [
        {
          "output_type": "stream",
          "text": [
            "/content\n",
            "rm: cannot remove 'IEOR265BerkeleyRLProject': No such file or directory\n",
            "Cloning into 'IEOR265BerkeleyRLProject'...\n",
            "remote: Enumerating objects: 197, done.\u001b[K\n",
            "remote: Counting objects: 100% (197/197), done.\u001b[K\n",
            "remote: Compressing objects: 100% (115/115), done.\u001b[K\n",
            "remote: Total 197 (delta 104), reused 170 (delta 77), pack-reused 0\u001b[K\n",
            "Receiving objects: 100% (197/197), 417.24 KiB | 10.70 MiB/s, done.\n",
            "Resolving deltas: 100% (104/104), done.\n"
          ],
          "name": "stdout"
        }
      ]
    }
  ]
}